{
 "cells": [
  {
   "cell_type": "code",
   "execution_count": 16,
   "metadata": {},
   "outputs": [],
   "source": [
    "import pandas as pd\n",
    "from pathlib import Path\n",
    "from matplotlib import pyplot as plt\n",
    "import string\n",
    "import numpy as np"
   ]
  },
  {
   "cell_type": "code",
   "execution_count": 17,
   "metadata": {},
   "outputs": [],
   "source": [
    "ROOT_PATH = Path().absolute().parent"
   ]
  },
  {
   "cell_type": "code",
   "execution_count": 18,
   "metadata": {},
   "outputs": [],
   "source": [
    "data_path = ROOT_PATH.joinpath('data')"
   ]
  },
  {
   "cell_type": "code",
   "execution_count": 19,
   "metadata": {},
   "outputs": [],
   "source": [
    "save_path = ROOT_PATH.joinpath('notebooks', 'visuals')"
   ]
  },
  {
   "cell_type": "code",
   "execution_count": 20,
   "metadata": {},
   "outputs": [],
   "source": [
    "# flickr8k\n",
    "f8_path = data_path.joinpath('interim', 'Flickr8k', 'Flickr8k_train.csv')\n",
    "#flick30k\n",
    "f30_path = data_path.joinpath('interim', 'karpathy_split', 'flickr30k_train.csv')\n",
    "#MSCOCO\n",
    "coco_path = data_path.joinpath('interim', 'MSCOCO', 'coco_train.csv')"
   ]
  },
  {
   "cell_type": "code",
   "execution_count": 21,
   "metadata": {},
   "outputs": [],
   "source": [
    "f8_df = pd.read_csv(f8_path)\n",
    "f30_df = pd.read_csv(f30_path)\n",
    "coco_df = pd.read_csv(coco_path)"
   ]
  },
  {
   "cell_type": "code",
   "execution_count": 22,
   "metadata": {},
   "outputs": [
    {
     "data": {
      "text/html": [
       "<div>\n",
       "<style scoped>\n",
       "    .dataframe tbody tr th:only-of-type {\n",
       "        vertical-align: middle;\n",
       "    }\n",
       "\n",
       "    .dataframe tbody tr th {\n",
       "        vertical-align: top;\n",
       "    }\n",
       "\n",
       "    .dataframe thead th {\n",
       "        text-align: right;\n",
       "    }\n",
       "</style>\n",
       "<table border=\"1\" class=\"dataframe\">\n",
       "  <thead>\n",
       "    <tr style=\"text-align: right;\">\n",
       "      <th></th>\n",
       "      <th>Unnamed: 0</th>\n",
       "      <th>Unnamed: 0.1</th>\n",
       "      <th>image_id</th>\n",
       "      <th>caption_id</th>\n",
       "      <th>caption</th>\n",
       "    </tr>\n",
       "  </thead>\n",
       "  <tbody>\n",
       "    <tr>\n",
       "      <td>0</td>\n",
       "      <td>0</td>\n",
       "      <td>0</td>\n",
       "      <td>1000268201_693b08cb0e.jpg</td>\n",
       "      <td>1000268201_693b08cb0e.jpg#0</td>\n",
       "      <td>A child in a pink dress is climbing up a set o...</td>\n",
       "    </tr>\n",
       "    <tr>\n",
       "      <td>1</td>\n",
       "      <td>1</td>\n",
       "      <td>1</td>\n",
       "      <td>1000268201_693b08cb0e.jpg</td>\n",
       "      <td>1000268201_693b08cb0e.jpg#1</td>\n",
       "      <td>A girl going into a wooden building .</td>\n",
       "    </tr>\n",
       "    <tr>\n",
       "      <td>2</td>\n",
       "      <td>2</td>\n",
       "      <td>2</td>\n",
       "      <td>1000268201_693b08cb0e.jpg</td>\n",
       "      <td>1000268201_693b08cb0e.jpg#2</td>\n",
       "      <td>A little girl climbing into a wooden playhouse .</td>\n",
       "    </tr>\n",
       "    <tr>\n",
       "      <td>3</td>\n",
       "      <td>3</td>\n",
       "      <td>3</td>\n",
       "      <td>1000268201_693b08cb0e.jpg</td>\n",
       "      <td>1000268201_693b08cb0e.jpg#3</td>\n",
       "      <td>A little girl climbing the stairs to her playh...</td>\n",
       "    </tr>\n",
       "    <tr>\n",
       "      <td>4</td>\n",
       "      <td>4</td>\n",
       "      <td>4</td>\n",
       "      <td>1000268201_693b08cb0e.jpg</td>\n",
       "      <td>1000268201_693b08cb0e.jpg#4</td>\n",
       "      <td>A little girl in a pink dress going into a woo...</td>\n",
       "    </tr>\n",
       "    <tr>\n",
       "      <td>...</td>\n",
       "      <td>...</td>\n",
       "      <td>...</td>\n",
       "      <td>...</td>\n",
       "      <td>...</td>\n",
       "      <td>...</td>\n",
       "    </tr>\n",
       "    <tr>\n",
       "      <td>29995</td>\n",
       "      <td>40450</td>\n",
       "      <td>40450</td>\n",
       "      <td>997338199_7343367d7f.jpg</td>\n",
       "      <td>997338199_7343367d7f.jpg#0</td>\n",
       "      <td>A person stands near golden walls .</td>\n",
       "    </tr>\n",
       "    <tr>\n",
       "      <td>29996</td>\n",
       "      <td>40451</td>\n",
       "      <td>40451</td>\n",
       "      <td>997338199_7343367d7f.jpg</td>\n",
       "      <td>997338199_7343367d7f.jpg#1</td>\n",
       "      <td>a woman behind a scrolled wall is writing</td>\n",
       "    </tr>\n",
       "    <tr>\n",
       "      <td>29997</td>\n",
       "      <td>40452</td>\n",
       "      <td>40452</td>\n",
       "      <td>997338199_7343367d7f.jpg</td>\n",
       "      <td>997338199_7343367d7f.jpg#2</td>\n",
       "      <td>A woman standing near a decorated wall writes .</td>\n",
       "    </tr>\n",
       "    <tr>\n",
       "      <td>29998</td>\n",
       "      <td>40453</td>\n",
       "      <td>40453</td>\n",
       "      <td>997338199_7343367d7f.jpg</td>\n",
       "      <td>997338199_7343367d7f.jpg#3</td>\n",
       "      <td>The walls are covered in gold and patterns .</td>\n",
       "    </tr>\n",
       "    <tr>\n",
       "      <td>29999</td>\n",
       "      <td>40454</td>\n",
       "      <td>40454</td>\n",
       "      <td>997338199_7343367d7f.jpg</td>\n",
       "      <td>997338199_7343367d7f.jpg#4</td>\n",
       "      <td>Woman writing on a pad in room with gold , dec...</td>\n",
       "    </tr>\n",
       "  </tbody>\n",
       "</table>\n",
       "<p>30000 rows × 5 columns</p>\n",
       "</div>"
      ],
      "text/plain": [
       "       Unnamed: 0  Unnamed: 0.1                   image_id  \\\n",
       "0               0             0  1000268201_693b08cb0e.jpg   \n",
       "1               1             1  1000268201_693b08cb0e.jpg   \n",
       "2               2             2  1000268201_693b08cb0e.jpg   \n",
       "3               3             3  1000268201_693b08cb0e.jpg   \n",
       "4               4             4  1000268201_693b08cb0e.jpg   \n",
       "...           ...           ...                        ...   \n",
       "29995       40450         40450   997338199_7343367d7f.jpg   \n",
       "29996       40451         40451   997338199_7343367d7f.jpg   \n",
       "29997       40452         40452   997338199_7343367d7f.jpg   \n",
       "29998       40453         40453   997338199_7343367d7f.jpg   \n",
       "29999       40454         40454   997338199_7343367d7f.jpg   \n",
       "\n",
       "                        caption_id  \\\n",
       "0      1000268201_693b08cb0e.jpg#0   \n",
       "1      1000268201_693b08cb0e.jpg#1   \n",
       "2      1000268201_693b08cb0e.jpg#2   \n",
       "3      1000268201_693b08cb0e.jpg#3   \n",
       "4      1000268201_693b08cb0e.jpg#4   \n",
       "...                            ...   \n",
       "29995   997338199_7343367d7f.jpg#0   \n",
       "29996   997338199_7343367d7f.jpg#1   \n",
       "29997   997338199_7343367d7f.jpg#2   \n",
       "29998   997338199_7343367d7f.jpg#3   \n",
       "29999   997338199_7343367d7f.jpg#4   \n",
       "\n",
       "                                                 caption  \n",
       "0      A child in a pink dress is climbing up a set o...  \n",
       "1                  A girl going into a wooden building .  \n",
       "2       A little girl climbing into a wooden playhouse .  \n",
       "3      A little girl climbing the stairs to her playh...  \n",
       "4      A little girl in a pink dress going into a woo...  \n",
       "...                                                  ...  \n",
       "29995                A person stands near golden walls .  \n",
       "29996          a woman behind a scrolled wall is writing  \n",
       "29997    A woman standing near a decorated wall writes .  \n",
       "29998       The walls are covered in gold and patterns .  \n",
       "29999  Woman writing on a pad in room with gold , dec...  \n",
       "\n",
       "[30000 rows x 5 columns]"
      ]
     },
     "execution_count": 22,
     "metadata": {},
     "output_type": "execute_result"
    }
   ],
   "source": [
    "f8_df"
   ]
  },
  {
   "cell_type": "code",
   "execution_count": 23,
   "metadata": {},
   "outputs": [],
   "source": [
    "f8_captions = f8_df.loc[:, ['image_id', 'caption']]\n"
   ]
  },
  {
   "cell_type": "code",
   "execution_count": 24,
   "metadata": {},
   "outputs": [],
   "source": [
    "stop_words = set(['a', 'the'])\n",
    "k = 15"
   ]
  },
  {
   "cell_type": "code",
   "execution_count": 25,
   "metadata": {},
   "outputs": [],
   "source": [
    "def words_total(df):\n",
    "    # returns total number of words in corpus\n",
    "    count = 0\n",
    "    for c in df.loc[:, 'caption']:\n",
    "        c = [w.strip() for w in c.split()]\n",
    "        c = [w.lower() for w in c]\n",
    "        c = [w.translate(table) for w in c]\n",
    "        c = [w for w in c if len(w) > 1 or w == 'a']\n",
    "        c = [w for w in c if w.isalpha()]\n",
    "        count += len(c)\n",
    "    return count\n",
    "    "
   ]
  },
  {
   "cell_type": "code",
   "execution_count": 26,
   "metadata": {},
   "outputs": [],
   "source": [
    "table = str.maketrans('', '', string.punctuation)"
   ]
  },
  {
   "cell_type": "code",
   "execution_count": 27,
   "metadata": {},
   "outputs": [],
   "source": [
    "def word_frequency_dict(df):\n",
    "    d = {}\n",
    "    for c in df.loc[:, 'caption']:\n",
    "        c = [w.strip() for w in c.split()]\n",
    "        c = [w.lower() for w in c]\n",
    "        c = [w.translate(table) for w in c]\n",
    "        c = [w for w in c if len(w) > 1 or w == 'a']\n",
    "        c = [w for w in c if w.isalpha()]\n",
    "\n",
    "        for w in c:\n",
    "            if w not in stop_words:\n",
    "                if w not in d.keys():\n",
    "                    d[w] = 1\n",
    "                else:\n",
    "                    d[w] += 1\n",
    "    return d\n",
    "    "
   ]
  },
  {
   "cell_type": "code",
   "execution_count": 28,
   "metadata": {},
   "outputs": [],
   "source": [
    "def find_k_most_frequent(wf_d, k=25):\n",
    "    ws = []\n",
    "    fs = []\n",
    "    least_frequent_w = ''\n",
    "    lf_f = 1000000\n",
    "    for word, f in wf_d.items():\n",
    "        if len(ws) < k:\n",
    "            ws.append(word)\n",
    "            fs.append(f)\n",
    "            if f < lf_f:\n",
    "                least_frequent_w = word\n",
    "                lf_f = f\n",
    "        else:\n",
    "            # must replace the k most frequent word\n",
    "            if f > lf_f:\n",
    "                # is top k\n",
    "                ws.remove(least_frequent_w)\n",
    "                fs.remove(lf_f)\n",
    "                ws.append(word)\n",
    "                fs.append(f)\n",
    "                lf_f = min(fs)\n",
    "                for w_ in ws:\n",
    "                    if wf_d[w_] == lf_f:\n",
    "                        least_frequent_w = w_\n",
    "                        break\n",
    "    wf_d_out = {w: f for w, f in wf_d.items() if w in set(ws)}\n",
    "    return wf_d_out"
   ]
  },
  {
   "cell_type": "code",
   "execution_count": 40,
   "metadata": {},
   "outputs": [],
   "source": [
    "def caption_stats(df):\n",
    "    lengths = []\n",
    "    max_len_cap = 'UNK'\n",
    "    min_len_cap = 'UNK'\n",
    "    max_len = -1\n",
    "    min_len = float('inf')\n",
    "    max_im = 'UNK.jpg'\n",
    "    min_im = 'UNK.jpg'\n",
    "    for i in range(len(df)):\n",
    "        # do basic preprocessing\n",
    "        c = df.loc[i, 'caption']\n",
    "        c = [w.strip() for w in c.split()]\n",
    "        c = [w.lower() for w in c]\n",
    "        c = [w.translate(table) for w in c]\n",
    "        c = [w for w in c if len(w) > 1 or w == 'a']\n",
    "        c = [w for w in c if w.isalpha()]\n",
    "        # add to lengths\n",
    "        lengths.append(len(c))\n",
    "        if len(c) < min_len:\n",
    "            # find out if this caption c is the shortest at this point\n",
    "            min_len = len(c)\n",
    "            min_len_cap = ' '.join(c)\n",
    "            min_im = df.loc[i, 'image_id']\n",
    "        if len(c) > max_len:\n",
    "            # find out if this caption is the longest encountered at this point\n",
    "            max_len = len(c)\n",
    "            max_len_cap = ' '.join(c)\n",
    "            max_im = df.loc[i, 'image_id']\n",
    "    print('min:', min_len_cap, 'image:',  min_im)\n",
    "    print('max:', max_len_cap, 'image:', max_im)\n",
    "    lengths = np.array(lengths)\n",
    "    return [np.max(lengths), np.min(lengths), np.mean(lengths), np.median(lengths), np.std(lengths)]"
   ]
  },
  {
   "cell_type": "code",
   "execution_count": 30,
   "metadata": {},
   "outputs": [
    {
     "name": "stdout",
     "output_type": "stream",
     "text": [
      "{'in': 14085, 'is': 6907, 'of': 4967, 'girl': 2414, 'black': 2854, 'dog': 6159, 'and': 6672, 'are': 2619, 'with': 5763, 'on': 8006, 'white': 2921, 'two': 4246, 'man': 5374, 'boy': 2634, 'woman': 2543}\n"
     ]
    }
   ],
   "source": [
    "# wordfrequency in f8 overall\n",
    "wf8_d = word_frequency_dict(f8_captions)\n",
    "wf8_25f = find_k_most_frequent(wf8_d, k)\n",
    "print(wf8_25f)"
   ]
  },
  {
   "cell_type": "code",
   "execution_count": 31,
   "metadata": {},
   "outputs": [],
   "source": [
    "f8_word_count = words_total(f8_captions)\n",
    "f8_labels = [key for key in wf8_25f.keys()]\n",
    "f8_values = [wf8_25f[key]/f8_word_count for key in wf8_25f.keys()]"
   ]
  },
  {
   "cell_type": "code",
   "execution_count": 32,
   "metadata": {},
   "outputs": [
    {
     "data": {
      "image/png": "[encoded data removed]",
      "text/plain": [
       "<Figure size 1080x504 with 1 Axes>"
      ]
     },
     "metadata": {
      "needs_background": "light"
     },
     "output_type": "display_data"
    }
   ],
   "source": [
    "plt.figure(figsize=(15,7))\n",
    "plt.bar(f8_labels, f8_values)\n",
    "#plt.title(\"25 most frequent words in captions in the Flickr8k training set\")\n",
    "plt.ylabel('Frequency', fontsize=16)\n",
    "plt.xlabel('Words', fontsize=16)\n",
    "plt.savefig(save_path.joinpath('freq_15words_flickr8k.pdf'))\n",
    "plt.show()"
   ]
  },
  {
   "cell_type": "code",
   "execution_count": 33,
   "metadata": {},
   "outputs": [
    {
     "name": "stdout",
     "output_type": "stream",
     "text": [
      "{'two': 19599, 'with': 33168, 'at': 14888, 'in': 76202, 'are': 18439, 'man': 38831, 'on': 41580, 'of': 35571, 'wearing': 14319, 'is': 37659, 'an': 14591, 'to': 16126, 'and': 40420, 'people': 15888, 'woman': 20145}\n"
     ]
    }
   ],
   "source": [
    "# wordfrequency in f30 overall\n",
    "wf30_d = word_frequency_dict(f30_df)\n",
    "wf30_25f = find_k_most_frequent(wf30_d, k)\n",
    "print(wf30_25f)"
   ]
  },
  {
   "cell_type": "code",
   "execution_count": 34,
   "metadata": {},
   "outputs": [],
   "source": [
    "f30_word_count = words_total(f30_df)\n",
    "f30_labels = [key for key in wf30_25f.keys()]\n",
    "f30_values = [wf30_25f[key]/f30_word_count for key in wf30_25f.keys()]"
   ]
  },
  {
   "cell_type": "code",
   "execution_count": 35,
   "metadata": {},
   "outputs": [
    {
     "data": {
      "image/png": "[encoded data removed]",
      "text/plain": [
       "<Figure size 1080x504 with 1 Axes>"
      ]
     },
     "metadata": {
      "needs_background": "light"
     },
     "output_type": "display_data"
    }
   ],
   "source": [
    "plt.figure(figsize=(15,7))\n",
    "plt.bar(f30_labels, f30_values)\n",
    "#plt.title(\"25 most frequent words in captions in the Flickr30k training set\")\n",
    "plt.ylabel('Frequency', fontsize=16)\n",
    "plt.xlabel('Words', fontsize=16)\n",
    "plt.savefig(save_path.joinpath('freq15_words_flickr30k.pdf'))\n",
    "plt.show()"
   ]
  },
  {
   "cell_type": "code",
   "execution_count": 36,
   "metadata": {},
   "outputs": [
    {
     "name": "stdout",
     "output_type": "stream",
     "text": [
      "{'and': 98730, 'with': 107699, 'on': 150673, 'of': 142759, 'in': 128904, 'is': 68666, 'man': 51311, 'standing': 30059, 'an': 34981, 'are': 28811, 'at': 29843, 'two': 34094, 'people': 29652, 'to': 47733, 'sitting': 36822}\n"
     ]
    }
   ],
   "source": [
    "# wordfrequency in coco overall\n",
    "wfcoco_d = word_frequency_dict(coco_df)\n",
    "wfcoco_25f = find_k_most_frequent(wfcoco_d, k)\n",
    "print(wfcoco_25f)"
   ]
  },
  {
   "cell_type": "code",
   "execution_count": 37,
   "metadata": {},
   "outputs": [],
   "source": [
    "coco_word_count = words_total(coco_df)\n",
    "coco_labels = [key for key in wfcoco_25f.keys()]\n",
    "coco_values = [wfcoco_25f[key]/coco_word_count for key in wfcoco_25f.keys()]"
   ]
  },
  {
   "cell_type": "code",
   "execution_count": 38,
   "metadata": {},
   "outputs": [
    {
     "data": {
      "image/png": "[encoded data removed]",
      "text/plain": [
       "<Figure size 1080x504 with 1 Axes>"
      ]
     },
     "metadata": {
      "needs_background": "light"
     },
     "output_type": "display_data"
    }
   ],
   "source": [
    "plt.figure(figsize=(15,7))\n",
    "plt.bar(coco_labels, coco_values)\n",
    "#plt.title(\"25 most frequent words in captions in the MS COCO training set\")\n",
    "plt.ylabel('Frequency', fontsize=16)\n",
    "plt.xlabel('Words', fontsize=16)\n",
    "plt.savefig(save_path.joinpath('freq15_words_MSCOCO.pdf'))\n",
    "plt.show()"
   ]
  },
  {
   "cell_type": "code",
   "execution_count": 41,
   "metadata": {},
   "outputs": [
    {
     "name": "stdout",
     "output_type": "stream",
     "text": [
      "min: two skateboarders image: 1052358063_eae6744153.jpg\n",
      "max: an africanamerican man wearing a green sweatshirt and blue vest is holding up dollar bills in front of his face while standing on a busy sidewalk in front of a group of men playing instruments image: 2354456107_bf5c766a05.jpg\n",
      "min: two skateboarders image: 1052358063.jpg\n",
      "max: a man wearing a helmet red pants with white stripes going down the sides and a white and red shirt is on a small bicycle using only his hands while his legs are up in the air while another man wearing a light blue shirt with dark blue trim and black pants with red stripes going up the sides is standing nearby gesturing toward the first man and holding a small figurine of one of the seven dwarves image: 207344485.jpg\n",
      "min: mmm image: COCO_train2014_000000281091.jpg\n",
      "max: two men holding tennis rackets up in a hand on either side of a man smiling hugging a tennis racket to chest by tennis net on tennis course with many light green tennis balls in air in front of them and two balls on ground and all playsign behind image: COCO_train2014_000000222676.jpg\n"
     ]
    }
   ],
   "source": [
    "# get stats\n",
    "f8_stats = caption_stats(f8_captions)\n",
    "f30_stats = caption_stats(f30_df)\n",
    "coco_stats = caption_stats(coco_df)"
   ]
  },
  {
   "cell_type": "code",
   "execution_count": 42,
   "metadata": {},
   "outputs": [
    {
     "name": "stdout",
     "output_type": "stream",
     "text": [
      "f8\n",
      "max: 35 \n",
      "min: 2 \n",
      "mean: 10.772833333333333 \n",
      "median: 10.0 \n",
      "std: 3.742053176028131\n",
      "f30\n",
      "max: 78 \n",
      "min: 2 \n",
      "mean: 12.248055172413792 \n",
      "median: 11.0 \n",
      "std: 5.141007516684952\n",
      "coco\n",
      "max: 49 \n",
      "min: 1 \n",
      "mean: 10.450565425379063 \n",
      "median: 10.0 \n",
      "std: 2.3951551316382638\n"
     ]
    }
   ],
   "source": [
    "print('f8\\nmax:', f8_stats[0], '\\nmin:', f8_stats[1], '\\nmean:', f8_stats[2], '\\nmedian:', f8_stats[3], '\\nstd:', f8_stats[4])\n",
    "print('f30\\nmax:', f30_stats[0], '\\nmin:', f30_stats[1], '\\nmean:', f30_stats[2], '\\nmedian:', f30_stats[3], '\\nstd:', f30_stats[4])\n",
    "print('coco\\nmax:', coco_stats[0], '\\nmin:', coco_stats[1], '\\nmean:', coco_stats[2], '\\nmedian:', coco_stats[3], '\\nstd:', coco_stats[4])"
   ]
  },
  {
   "cell_type": "code",
   "execution_count": 43,
   "metadata": {},
   "outputs": [
    {
     "data": {
      "text/html": [
       "<div>\n",
       "<style scoped>\n",
       "    .dataframe tbody tr th:only-of-type {\n",
       "        vertical-align: middle;\n",
       "    }\n",
       "\n",
       "    .dataframe tbody tr th {\n",
       "        vertical-align: top;\n",
       "    }\n",
       "\n",
       "    .dataframe thead th {\n",
       "        text-align: right;\n",
       "    }\n",
       "</style>\n",
       "<table border=\"1\" class=\"dataframe\">\n",
       "  <thead>\n",
       "    <tr style=\"text-align: right;\">\n",
       "      <th></th>\n",
       "      <th>image_id</th>\n",
       "      <th>caption_id</th>\n",
       "      <th>caption</th>\n",
       "    </tr>\n",
       "  </thead>\n",
       "  <tbody>\n",
       "    <tr>\n",
       "      <td>335167</td>\n",
       "      <td>COCO_train2014_000000281091.jpg</td>\n",
       "      <td>COCO_train2014_000000281091.jpg#COCO_train2014...</td>\n",
       "      <td>m m m m m m m m mmm m m m m</td>\n",
       "    </tr>\n",
       "    <tr>\n",
       "      <td>335168</td>\n",
       "      <td>COCO_train2014_000000281091.jpg</td>\n",
       "      <td>COCO_train2014_000000281091.jpg#COCO_train2014...</td>\n",
       "      <td>Man in a grassy meadow with a bunch of cows.</td>\n",
       "    </tr>\n",
       "    <tr>\n",
       "      <td>335169</td>\n",
       "      <td>COCO_train2014_000000281091.jpg</td>\n",
       "      <td>COCO_train2014_000000281091.jpg#COCO_train2014...</td>\n",
       "      <td>a man in a black shirt grass and some brown an...</td>\n",
       "    </tr>\n",
       "    <tr>\n",
       "      <td>335170</td>\n",
       "      <td>COCO_train2014_000000281091.jpg</td>\n",
       "      <td>COCO_train2014_000000281091.jpg#COCO_train2014...</td>\n",
       "      <td>a couple of cows are standing in a green field</td>\n",
       "    </tr>\n",
       "    <tr>\n",
       "      <td>335171</td>\n",
       "      <td>COCO_train2014_000000281091.jpg</td>\n",
       "      <td>COCO_train2014_000000281091.jpg#COCO_train2014...</td>\n",
       "      <td>A man tending to some of his cattle in a field</td>\n",
       "    </tr>\n",
       "  </tbody>\n",
       "</table>\n",
       "</div>"
      ],
      "text/plain": [
       "                               image_id  \\\n",
       "335167  COCO_train2014_000000281091.jpg   \n",
       "335168  COCO_train2014_000000281091.jpg   \n",
       "335169  COCO_train2014_000000281091.jpg   \n",
       "335170  COCO_train2014_000000281091.jpg   \n",
       "335171  COCO_train2014_000000281091.jpg   \n",
       "\n",
       "                                               caption_id  \\\n",
       "335167  COCO_train2014_000000281091.jpg#COCO_train2014...   \n",
       "335168  COCO_train2014_000000281091.jpg#COCO_train2014...   \n",
       "335169  COCO_train2014_000000281091.jpg#COCO_train2014...   \n",
       "335170  COCO_train2014_000000281091.jpg#COCO_train2014...   \n",
       "335171  COCO_train2014_000000281091.jpg#COCO_train2014...   \n",
       "\n",
       "                                                  caption  \n",
       "335167                       m m m m m m m m mmm m m m m   \n",
       "335168       Man in a grassy meadow with a bunch of cows.  \n",
       "335169  a man in a black shirt grass and some brown an...  \n",
       "335170     a couple of cows are standing in a green field  \n",
       "335171     A man tending to some of his cattle in a field  "
      ]
     },
     "execution_count": 43,
     "metadata": {},
     "output_type": "execute_result"
    }
   ],
   "source": [
    "coco_df.loc[coco_df.loc[:, 'image_id'] == 'COCO_train2014_000000281091.jpg', ['image_id', 'caption_id', 'caption']]"
   ]
  },
  {
   "cell_type": "code",
   "execution_count": 44,
   "metadata": {},
   "outputs": [],
   "source": [
    "def caps_with_len(df, l):\n",
    "    caps = []\n",
    "    for i in range(len(df)):\n",
    "        c = df.loc[i, 'caption']\n",
    "        c = [w.strip() for w in c.split()]\n",
    "        c = [w.lower() for w in c]\n",
    "        c = [w.translate(table) for w in c]\n",
    "        c = [w for w in c if len(w) > 1 or w == 'a']\n",
    "        c = [w for w in c if w.isalpha()]\n",
    "        if len(c) == l:\n",
    "            caps.append(' '.join(c))\n",
    "    return caps\n",
    "    "
   ]
  },
  {
   "cell_type": "code",
   "execution_count": 45,
   "metadata": {},
   "outputs": [
    {
     "data": {
      "text/plain": [
       "['mm mmm mm mm mmm', 'person snowboarding down a hill', 'corner of ave and st']"
      ]
     },
     "execution_count": 45,
     "metadata": {},
     "output_type": "execute_result"
    }
   ],
   "source": [
    "caps_with_len(coco_df,5)"
   ]
  },
  {
   "cell_type": "code",
   "execution_count": 46,
   "metadata": {},
   "outputs": [],
   "source": [
    "clean_coco_path = data_path.joinpath('interim', 'karpathy_split', 'coco_train_clean.csv')"
   ]
  },
  {
   "cell_type": "code",
   "execution_count": 47,
   "metadata": {},
   "outputs": [],
   "source": [
    "clean_coco_df = pd.read_csv(clean_coco_path)"
   ]
  },
  {
   "cell_type": "code",
   "execution_count": 48,
   "metadata": {},
   "outputs": [
    {
     "data": {
      "text/plain": [
       "['person snowboarding down a hill', 'corner of ave and st']"
      ]
     },
     "execution_count": 48,
     "metadata": {},
     "output_type": "execute_result"
    }
   ],
   "source": [
    "caps_with_len(clean_coco_df,5)"
   ]
  },
  {
   "cell_type": "code",
   "execution_count": 49,
   "metadata": {},
   "outputs": [
    {
     "data": {
      "text/html": [
       "<div>\n",
       "<style scoped>\n",
       "    .dataframe tbody tr th:only-of-type {\n",
       "        vertical-align: middle;\n",
       "    }\n",
       "\n",
       "    .dataframe tbody tr th {\n",
       "        vertical-align: top;\n",
       "    }\n",
       "\n",
       "    .dataframe thead th {\n",
       "        text-align: right;\n",
       "    }\n",
       "</style>\n",
       "<table border=\"1\" class=\"dataframe\">\n",
       "  <thead>\n",
       "    <tr style=\"text-align: right;\">\n",
       "      <th></th>\n",
       "      <th>image_id</th>\n",
       "      <th>caption_id</th>\n",
       "      <th>caption</th>\n",
       "      <th>clean_caption</th>\n",
       "    </tr>\n",
       "  </thead>\n",
       "  <tbody>\n",
       "    <tr>\n",
       "      <td>335162</td>\n",
       "      <td>COCO_train2014_000000281091.jpg</td>\n",
       "      <td>COCO_train2014_000000281091#627298</td>\n",
       "      <td>Man in a grassy meadow with a bunch of cows.</td>\n",
       "      <td>startseq man in a grassy meadow with a bunch o...</td>\n",
       "    </tr>\n",
       "    <tr>\n",
       "      <td>335163</td>\n",
       "      <td>COCO_train2014_000000281091.jpg</td>\n",
       "      <td>COCO_train2014_000000281091#628777</td>\n",
       "      <td>a man in a black shirt grass and some brown an...</td>\n",
       "      <td>startseq a man in a black shirt grass and some...</td>\n",
       "    </tr>\n",
       "    <tr>\n",
       "      <td>335164</td>\n",
       "      <td>COCO_train2014_000000281091.jpg</td>\n",
       "      <td>COCO_train2014_000000281091#629962</td>\n",
       "      <td>a couple of cows are standing in a green field</td>\n",
       "      <td>startseq a couple of cows are standing in a gr...</td>\n",
       "    </tr>\n",
       "    <tr>\n",
       "      <td>335165</td>\n",
       "      <td>COCO_train2014_000000281091.jpg</td>\n",
       "      <td>COCO_train2014_000000281091#631009</td>\n",
       "      <td>A man tending to some of his cattle in a field</td>\n",
       "      <td>startseq a man tending to some of his cattle i...</td>\n",
       "    </tr>\n",
       "  </tbody>\n",
       "</table>\n",
       "</div>"
      ],
      "text/plain": [
       "                               image_id                          caption_id  \\\n",
       "335162  COCO_train2014_000000281091.jpg  COCO_train2014_000000281091#627298   \n",
       "335163  COCO_train2014_000000281091.jpg  COCO_train2014_000000281091#628777   \n",
       "335164  COCO_train2014_000000281091.jpg  COCO_train2014_000000281091#629962   \n",
       "335165  COCO_train2014_000000281091.jpg  COCO_train2014_000000281091#631009   \n",
       "\n",
       "                                                  caption  \\\n",
       "335162       Man in a grassy meadow with a bunch of cows.   \n",
       "335163  a man in a black shirt grass and some brown an...   \n",
       "335164     a couple of cows are standing in a green field   \n",
       "335165     A man tending to some of his cattle in a field   \n",
       "\n",
       "                                            clean_caption  \n",
       "335162  startseq man in a grassy meadow with a bunch o...  \n",
       "335163  startseq a man in a black shirt grass and some...  \n",
       "335164  startseq a couple of cows are standing in a gr...  \n",
       "335165  startseq a man tending to some of his cattle i...  "
      ]
     },
     "execution_count": 49,
     "metadata": {},
     "output_type": "execute_result"
    }
   ],
   "source": [
    "clean_coco_df.loc[clean_coco_df.loc[:, 'image_id'] == 'COCO_train2014_000000281091.jpg', ['image_id', 'caption_id', 'caption', 'clean_caption']]"
   ]
  },
  {
   "cell_type": "code",
   "execution_count": null,
   "metadata": {},
   "outputs": [],
   "source": []
  }
 ],
 "metadata": {
  "kernelspec": {
   "display_name": "Python 3",
   "language": "python",
   "name": "python3"
  },
  "language_info": {
   "codemirror_mode": {
    "name": "ipython",
    "version": 3
   },
   "file_extension": ".py",
   "mimetype": "text/x-python",
   "name": "python",
   "nbconvert_exporter": "python",
   "pygments_lexer": "ipython3",
   "version": "3.7.4"
  }
 },
 "nbformat": 4,
 "nbformat_minor": 2
}
