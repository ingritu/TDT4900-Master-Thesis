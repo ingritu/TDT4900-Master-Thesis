{
 "cells": [
  {
   "cell_type": "code",
   "execution_count": 1,
   "metadata": {},
   "outputs": [],
   "source": [
    "import pandas as pd\n",
    "from pathlib import Path"
   ]
  },
  {
   "cell_type": "code",
   "execution_count": 2,
   "metadata": {},
   "outputs": [
    {
     "data": {
      "text/plain": [
       "PosixPath('/home/ingrid/Documents/TDT4900-Master-Thesis')"
      ]
     },
     "execution_count": 2,
     "metadata": {},
     "output_type": "execute_result"
    }
   ],
   "source": [
    "ROOT_PATH = Path().absolute().parent"
   ]
  },
  {
   "cell_type": "code",
   "execution_count": 3,
   "metadata": {},
   "outputs": [],
   "source": [
    "data_path = ROOT_PATH.joinpath('data')"
   ]
  },
  {
   "cell_type": "code",
   "execution_count": 4,
   "metadata": {},
   "outputs": [],
   "source": [
    "# flickr8k\n",
    "f8_path = data_path.joinpath('interim', 'Flickr8k', 'Flickr8k_train.csv')\n",
    "#flick30k\n",
    "f30_path = data_path.joinpath('interim', 'karpathy_split', 'flickr30k_train.csv')\n",
    "#MSCOCO\n",
    "coco_path = data_path.joinpath('interim', 'MSCOCO', 'coco_train.csv')"
   ]
  },
  {
   "cell_type": "code",
   "execution_count": 5,
   "metadata": {},
   "outputs": [],
   "source": [
    "f8_df = pd.read_csv(f8_path)\n",
    "f30_df = pd.read_csv(f30_path)"
   ]
  },
  {
   "cell_type": "code",
   "execution_count": 6,
   "metadata": {},
   "outputs": [
    {
     "data": {
      "text/html": [
       "<div>\n",
       "<style scoped>\n",
       "    .dataframe tbody tr th:only-of-type {\n",
       "        vertical-align: middle;\n",
       "    }\n",
       "\n",
       "    .dataframe tbody tr th {\n",
       "        vertical-align: top;\n",
       "    }\n",
       "\n",
       "    .dataframe thead th {\n",
       "        text-align: right;\n",
       "    }\n",
       "</style>\n",
       "<table border=\"1\" class=\"dataframe\">\n",
       "  <thead>\n",
       "    <tr style=\"text-align: right;\">\n",
       "      <th></th>\n",
       "      <th>Unnamed: 0</th>\n",
       "      <th>Unnamed: 0.1</th>\n",
       "      <th>image_id</th>\n",
       "      <th>caption_id</th>\n",
       "      <th>caption</th>\n",
       "    </tr>\n",
       "  </thead>\n",
       "  <tbody>\n",
       "    <tr>\n",
       "      <td>0</td>\n",
       "      <td>0</td>\n",
       "      <td>0</td>\n",
       "      <td>1000268201_693b08cb0e.jpg</td>\n",
       "      <td>1000268201_693b08cb0e.jpg#0</td>\n",
       "      <td>A child in a pink dress is climbing up a set o...</td>\n",
       "    </tr>\n",
       "    <tr>\n",
       "      <td>1</td>\n",
       "      <td>1</td>\n",
       "      <td>1</td>\n",
       "      <td>1000268201_693b08cb0e.jpg</td>\n",
       "      <td>1000268201_693b08cb0e.jpg#1</td>\n",
       "      <td>A girl going into a wooden building .</td>\n",
       "    </tr>\n",
       "    <tr>\n",
       "      <td>2</td>\n",
       "      <td>2</td>\n",
       "      <td>2</td>\n",
       "      <td>1000268201_693b08cb0e.jpg</td>\n",
       "      <td>1000268201_693b08cb0e.jpg#2</td>\n",
       "      <td>A little girl climbing into a wooden playhouse .</td>\n",
       "    </tr>\n",
       "    <tr>\n",
       "      <td>3</td>\n",
       "      <td>3</td>\n",
       "      <td>3</td>\n",
       "      <td>1000268201_693b08cb0e.jpg</td>\n",
       "      <td>1000268201_693b08cb0e.jpg#3</td>\n",
       "      <td>A little girl climbing the stairs to her playh...</td>\n",
       "    </tr>\n",
       "    <tr>\n",
       "      <td>4</td>\n",
       "      <td>4</td>\n",
       "      <td>4</td>\n",
       "      <td>1000268201_693b08cb0e.jpg</td>\n",
       "      <td>1000268201_693b08cb0e.jpg#4</td>\n",
       "      <td>A little girl in a pink dress going into a woo...</td>\n",
       "    </tr>\n",
       "    <tr>\n",
       "      <td>...</td>\n",
       "      <td>...</td>\n",
       "      <td>...</td>\n",
       "      <td>...</td>\n",
       "      <td>...</td>\n",
       "      <td>...</td>\n",
       "    </tr>\n",
       "    <tr>\n",
       "      <td>29995</td>\n",
       "      <td>40450</td>\n",
       "      <td>40450</td>\n",
       "      <td>997338199_7343367d7f.jpg</td>\n",
       "      <td>997338199_7343367d7f.jpg#0</td>\n",
       "      <td>A person stands near golden walls .</td>\n",
       "    </tr>\n",
       "    <tr>\n",
       "      <td>29996</td>\n",
       "      <td>40451</td>\n",
       "      <td>40451</td>\n",
       "      <td>997338199_7343367d7f.jpg</td>\n",
       "      <td>997338199_7343367d7f.jpg#1</td>\n",
       "      <td>a woman behind a scrolled wall is writing</td>\n",
       "    </tr>\n",
       "    <tr>\n",
       "      <td>29997</td>\n",
       "      <td>40452</td>\n",
       "      <td>40452</td>\n",
       "      <td>997338199_7343367d7f.jpg</td>\n",
       "      <td>997338199_7343367d7f.jpg#2</td>\n",
       "      <td>A woman standing near a decorated wall writes .</td>\n",
       "    </tr>\n",
       "    <tr>\n",
       "      <td>29998</td>\n",
       "      <td>40453</td>\n",
       "      <td>40453</td>\n",
       "      <td>997338199_7343367d7f.jpg</td>\n",
       "      <td>997338199_7343367d7f.jpg#3</td>\n",
       "      <td>The walls are covered in gold and patterns .</td>\n",
       "    </tr>\n",
       "    <tr>\n",
       "      <td>29999</td>\n",
       "      <td>40454</td>\n",
       "      <td>40454</td>\n",
       "      <td>997338199_7343367d7f.jpg</td>\n",
       "      <td>997338199_7343367d7f.jpg#4</td>\n",
       "      <td>Woman writing on a pad in room with gold , dec...</td>\n",
       "    </tr>\n",
       "  </tbody>\n",
       "</table>\n",
       "<p>30000 rows × 5 columns</p>\n",
       "</div>"
      ],
      "text/plain": [
       "       Unnamed: 0  Unnamed: 0.1                   image_id  \\\n",
       "0               0             0  1000268201_693b08cb0e.jpg   \n",
       "1               1             1  1000268201_693b08cb0e.jpg   \n",
       "2               2             2  1000268201_693b08cb0e.jpg   \n",
       "3               3             3  1000268201_693b08cb0e.jpg   \n",
       "4               4             4  1000268201_693b08cb0e.jpg   \n",
       "...           ...           ...                        ...   \n",
       "29995       40450         40450   997338199_7343367d7f.jpg   \n",
       "29996       40451         40451   997338199_7343367d7f.jpg   \n",
       "29997       40452         40452   997338199_7343367d7f.jpg   \n",
       "29998       40453         40453   997338199_7343367d7f.jpg   \n",
       "29999       40454         40454   997338199_7343367d7f.jpg   \n",
       "\n",
       "                        caption_id  \\\n",
       "0      1000268201_693b08cb0e.jpg#0   \n",
       "1      1000268201_693b08cb0e.jpg#1   \n",
       "2      1000268201_693b08cb0e.jpg#2   \n",
       "3      1000268201_693b08cb0e.jpg#3   \n",
       "4      1000268201_693b08cb0e.jpg#4   \n",
       "...                            ...   \n",
       "29995   997338199_7343367d7f.jpg#0   \n",
       "29996   997338199_7343367d7f.jpg#1   \n",
       "29997   997338199_7343367d7f.jpg#2   \n",
       "29998   997338199_7343367d7f.jpg#3   \n",
       "29999   997338199_7343367d7f.jpg#4   \n",
       "\n",
       "                                                 caption  \n",
       "0      A child in a pink dress is climbing up a set o...  \n",
       "1                  A girl going into a wooden building .  \n",
       "2       A little girl climbing into a wooden playhouse .  \n",
       "3      A little girl climbing the stairs to her playh...  \n",
       "4      A little girl in a pink dress going into a woo...  \n",
       "...                                                  ...  \n",
       "29995                A person stands near golden walls .  \n",
       "29996          a woman behind a scrolled wall is writing  \n",
       "29997    A woman standing near a decorated wall writes .  \n",
       "29998       The walls are covered in gold and patterns .  \n",
       "29999  Woman writing on a pad in room with gold , dec...  \n",
       "\n",
       "[30000 rows x 5 columns]"
      ]
     },
     "execution_count": 6,
     "metadata": {},
     "output_type": "execute_result"
    }
   ],
   "source": [
    "f8_df"
   ]
  },
  {
   "cell_type": "code",
   "execution_count": null,
   "metadata": {},
   "outputs": [],
   "source": [
    "f8_captions = f8_df.loc[:, ['image_id', 'caption']]\n"
   ]
  }
 ],
 "metadata": {
  "kernelspec": {
   "display_name": "Python 3",
   "language": "python",
   "name": "python3"
  },
  "language_info": {
   "codemirror_mode": {
    "name": "ipython",
    "version": 3
   },
   "file_extension": ".py",
   "mimetype": "text/x-python",
   "name": "python",
   "nbconvert_exporter": "python",
   "pygments_lexer": "ipython3",
   "version": "3.7.4"
  }
 },
 "nbformat": 4,
 "nbformat_minor": 2
}
