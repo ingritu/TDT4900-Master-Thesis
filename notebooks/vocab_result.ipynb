{
 "cells": [
  {
   "cell_type": "markdown",
   "metadata": {},
   "source": [
    "## Imports"
   ]
  },
  {
   "cell_type": "code",
   "execution_count": 13,
   "metadata": {},
   "outputs": [],
   "source": [
    "import matplotlib.pyplot as plt\n",
    "import numpy as np\n",
    "from pathlib import Path\n",
    "import pandas as pd\n",
    "plt.style.use('seaborn-whitegrid')"
   ]
  },
  {
   "cell_type": "code",
   "execution_count": 2,
   "metadata": {},
   "outputs": [],
   "source": [
    "ROOT_PATH = Path().absolute().parent"
   ]
  },
  {
   "cell_type": "code",
   "execution_count": 3,
   "metadata": {},
   "outputs": [],
   "source": [
    "basic_result_path = ROOT_PATH.joinpath('data', 'processed', 'test_vocab_results.csv')\n",
    "adaptive_result_path = ROOT_PATH.joinpath('data', 'processed', 'adaptive_test_vocab_results.csv')"
   ]
  },
  {
   "cell_type": "code",
   "execution_count": 4,
   "metadata": {},
   "outputs": [],
   "source": [
    "save_path = ROOT_PATH.joinpath('notebooks', 'visuals')"
   ]
  },
  {
   "cell_type": "markdown",
   "metadata": {},
   "source": [
    "# Model A"
   ]
  },
  {
   "cell_type": "code",
   "execution_count": 7,
   "metadata": {},
   "outputs": [
    {
     "data": {
      "text/html": [
       "<div>\n",
       "<style scoped>\n",
       "    .dataframe tbody tr th:only-of-type {\n",
       "        vertical-align: middle;\n",
       "    }\n",
       "\n",
       "    .dataframe tbody tr th {\n",
       "        vertical-align: top;\n",
       "    }\n",
       "\n",
       "    .dataframe thead th {\n",
       "        text-align: right;\n",
       "    }\n",
       "</style>\n",
       "<table border=\"1\" class=\"dataframe\">\n",
       "  <thead>\n",
       "    <tr style=\"text-align: right;\">\n",
       "      <th></th>\n",
       "      <th>model</th>\n",
       "      <th>dataset</th>\n",
       "      <th>voc_size</th>\n",
       "    </tr>\n",
       "  </thead>\n",
       "  <tbody>\n",
       "    <tr>\n",
       "      <th>0</th>\n",
       "      <td>adaptive_11-May-2020_(17:29:25)</td>\n",
       "      <td>coco</td>\n",
       "      <td>745.0</td>\n",
       "    </tr>\n",
       "    <tr>\n",
       "      <th>1</th>\n",
       "      <td>adaptive_11-May-2020_(17:30:25)</td>\n",
       "      <td>coco</td>\n",
       "      <td>795.0</td>\n",
       "    </tr>\n",
       "    <tr>\n",
       "      <th>2</th>\n",
       "      <td>adaptive_11-May-2020_(17:31:13)</td>\n",
       "      <td>coco</td>\n",
       "      <td>780.0</td>\n",
       "    </tr>\n",
       "    <tr>\n",
       "      <th>3</th>\n",
       "      <td>adaptive_11-May-2020_(17:33:25)</td>\n",
       "      <td>coco</td>\n",
       "      <td>812.0</td>\n",
       "    </tr>\n",
       "    <tr>\n",
       "      <th>4</th>\n",
       "      <td>adaptive_11-May-2020_(17:34:25)</td>\n",
       "      <td>coco</td>\n",
       "      <td>746.0</td>\n",
       "    </tr>\n",
       "    <tr>\n",
       "      <th>...</th>\n",
       "      <td>...</td>\n",
       "      <td>...</td>\n",
       "      <td>...</td>\n",
       "    </tr>\n",
       "    <tr>\n",
       "      <th>70</th>\n",
       "      <td>adaptive_exp_14-May-2020_(14:00:14)</td>\n",
       "      <td>c5</td>\n",
       "      <td>766.0</td>\n",
       "    </tr>\n",
       "    <tr>\n",
       "      <th>71</th>\n",
       "      <td>adaptive_exp_02-May-2020_(13:49:42)</td>\n",
       "      <td>c5</td>\n",
       "      <td>821.0</td>\n",
       "    </tr>\n",
       "    <tr>\n",
       "      <th>72</th>\n",
       "      <td>adaptive_exp_16-May-2020_(14:09:52)</td>\n",
       "      <td>c5</td>\n",
       "      <td>827.0</td>\n",
       "    </tr>\n",
       "    <tr>\n",
       "      <th>73</th>\n",
       "      <td>adaptive_exp_18-May-2020_(07:42:45)</td>\n",
       "      <td>c5</td>\n",
       "      <td>752.0</td>\n",
       "    </tr>\n",
       "    <tr>\n",
       "      <th>74</th>\n",
       "      <td>adaptive_exp_19-May-2020_(14:36:01)</td>\n",
       "      <td>c5</td>\n",
       "      <td>785.0</td>\n",
       "    </tr>\n",
       "  </tbody>\n",
       "</table>\n",
       "<p>75 rows × 3 columns</p>\n",
       "</div>"
      ],
      "text/plain": [
       "                                  model dataset  voc_size\n",
       "0       adaptive_11-May-2020_(17:29:25)    coco     745.0\n",
       "1       adaptive_11-May-2020_(17:30:25)    coco     795.0\n",
       "2       adaptive_11-May-2020_(17:31:13)    coco     780.0\n",
       "3       adaptive_11-May-2020_(17:33:25)    coco     812.0\n",
       "4       adaptive_11-May-2020_(17:34:25)    coco     746.0\n",
       "..                                  ...     ...       ...\n",
       "70  adaptive_exp_14-May-2020_(14:00:14)      c5     766.0\n",
       "71  adaptive_exp_02-May-2020_(13:49:42)      c5     821.0\n",
       "72  adaptive_exp_16-May-2020_(14:09:52)      c5     827.0\n",
       "73  adaptive_exp_18-May-2020_(07:42:45)      c5     752.0\n",
       "74  adaptive_exp_19-May-2020_(14:36:01)      c5     785.0\n",
       "\n",
       "[75 rows x 3 columns]"
      ]
     },
     "execution_count": 7,
     "metadata": {},
     "output_type": "execute_result"
    }
   ],
   "source": [
    "a_df = pd.read_csv(adaptive_result_path)\n",
    "a_df"
   ]
  },
  {
   "cell_type": "markdown",
   "metadata": {},
   "source": [
    "## Baseline"
   ]
  },
  {
   "cell_type": "code",
   "execution_count": 8,
   "metadata": {},
   "outputs": [
    {
     "data": {
      "text/html": [
       "<div>\n",
       "<style scoped>\n",
       "    .dataframe tbody tr th:only-of-type {\n",
       "        vertical-align: middle;\n",
       "    }\n",
       "\n",
       "    .dataframe tbody tr th {\n",
       "        vertical-align: top;\n",
       "    }\n",
       "\n",
       "    .dataframe thead th {\n",
       "        text-align: right;\n",
       "    }\n",
       "</style>\n",
       "<table border=\"1\" class=\"dataframe\">\n",
       "  <thead>\n",
       "    <tr style=\"text-align: right;\">\n",
       "      <th></th>\n",
       "      <th>model</th>\n",
       "      <th>dataset</th>\n",
       "      <th>voc_size</th>\n",
       "    </tr>\n",
       "  </thead>\n",
       "  <tbody>\n",
       "    <tr>\n",
       "      <th>0</th>\n",
       "      <td>adaptive_11-May-2020_(17:29:25)</td>\n",
       "      <td>coco</td>\n",
       "      <td>745.0</td>\n",
       "    </tr>\n",
       "    <tr>\n",
       "      <th>1</th>\n",
       "      <td>adaptive_11-May-2020_(17:30:25)</td>\n",
       "      <td>coco</td>\n",
       "      <td>795.0</td>\n",
       "    </tr>\n",
       "    <tr>\n",
       "      <th>2</th>\n",
       "      <td>adaptive_11-May-2020_(17:31:13)</td>\n",
       "      <td>coco</td>\n",
       "      <td>780.0</td>\n",
       "    </tr>\n",
       "    <tr>\n",
       "      <th>3</th>\n",
       "      <td>adaptive_11-May-2020_(17:33:25)</td>\n",
       "      <td>coco</td>\n",
       "      <td>812.0</td>\n",
       "    </tr>\n",
       "    <tr>\n",
       "      <th>4</th>\n",
       "      <td>adaptive_11-May-2020_(17:34:25)</td>\n",
       "      <td>coco</td>\n",
       "      <td>746.0</td>\n",
       "    </tr>\n",
       "  </tbody>\n",
       "</table>\n",
       "</div>"
      ],
      "text/plain": [
       "                             model dataset  voc_size\n",
       "0  adaptive_11-May-2020_(17:29:25)    coco     745.0\n",
       "1  adaptive_11-May-2020_(17:30:25)    coco     795.0\n",
       "2  adaptive_11-May-2020_(17:31:13)    coco     780.0\n",
       "3  adaptive_11-May-2020_(17:33:25)    coco     812.0\n",
       "4  adaptive_11-May-2020_(17:34:25)    coco     746.0"
      ]
     },
     "execution_count": 8,
     "metadata": {},
     "output_type": "execute_result"
    }
   ],
   "source": [
    "a_baseline_df = a_df.loc[a_df.loc[:,'dataset']=='coco', :]\n",
    "a_baseline_df"
   ]
  },
  {
   "cell_type": "code",
   "execution_count": 9,
   "metadata": {},
   "outputs": [
    {
     "data": {
      "text/html": [
       "<div>\n",
       "<style scoped>\n",
       "    .dataframe tbody tr th:only-of-type {\n",
       "        vertical-align: middle;\n",
       "    }\n",
       "\n",
       "    .dataframe tbody tr th {\n",
       "        vertical-align: top;\n",
       "    }\n",
       "\n",
       "    .dataframe thead th {\n",
       "        text-align: right;\n",
       "    }\n",
       "</style>\n",
       "<table border=\"1\" class=\"dataframe\">\n",
       "  <thead>\n",
       "    <tr style=\"text-align: right;\">\n",
       "      <th></th>\n",
       "      <th>voc_size</th>\n",
       "    </tr>\n",
       "  </thead>\n",
       "  <tbody>\n",
       "    <tr>\n",
       "      <th>count</th>\n",
       "      <td>5.000000</td>\n",
       "    </tr>\n",
       "    <tr>\n",
       "      <th>mean</th>\n",
       "      <td>775.600000</td>\n",
       "    </tr>\n",
       "    <tr>\n",
       "      <th>std</th>\n",
       "      <td>29.720363</td>\n",
       "    </tr>\n",
       "    <tr>\n",
       "      <th>min</th>\n",
       "      <td>745.000000</td>\n",
       "    </tr>\n",
       "    <tr>\n",
       "      <th>25%</th>\n",
       "      <td>746.000000</td>\n",
       "    </tr>\n",
       "    <tr>\n",
       "      <th>50%</th>\n",
       "      <td>780.000000</td>\n",
       "    </tr>\n",
       "    <tr>\n",
       "      <th>75%</th>\n",
       "      <td>795.000000</td>\n",
       "    </tr>\n",
       "    <tr>\n",
       "      <th>max</th>\n",
       "      <td>812.000000</td>\n",
       "    </tr>\n",
       "  </tbody>\n",
       "</table>\n",
       "</div>"
      ],
      "text/plain": [
       "         voc_size\n",
       "count    5.000000\n",
       "mean   775.600000\n",
       "std     29.720363\n",
       "min    745.000000\n",
       "25%    746.000000\n",
       "50%    780.000000\n",
       "75%    795.000000\n",
       "max    812.000000"
      ]
     },
     "execution_count": 9,
     "metadata": {},
     "output_type": "execute_result"
    }
   ],
   "source": [
    "a_baseline_df.describe()"
   ]
  },
  {
   "cell_type": "code",
   "execution_count": 14,
   "metadata": {},
   "outputs": [],
   "source": [
    "c1_a_df = a_df.loc[a_df.loc[:,'dataset']=='c1', :]\n",
    "c2_a_df = a_df.loc[a_df.loc[:,'dataset']=='c2', :]\n",
    "c3_a_df = a_df.loc[a_df.loc[:,'dataset']=='c3', :]\n",
    "c4_a_df = a_df.loc[a_df.loc[:,'dataset']=='c4', :]\n",
    "c5_a_df = a_df.loc[a_df.loc[:,'dataset']=='c5', :]\n",
    "cp6_a_df = a_df.loc[a_df.loc[:,'dataset']=='cp6', :]\n",
    "cp7_a_df = a_df.loc[a_df.loc[:,'dataset']=='cp7', :]\n",
    "cp8_a_df = a_df.loc[a_df.loc[:,'dataset']=='cp8', :]\n",
    "cp9_a_df = a_df.loc[a_df.loc[:,'dataset']=='cp9', :]\n",
    "cp10_a_df = a_df.loc[a_df.loc[:,'dataset']=='cp10', :]\n",
    "c1p1_a_df = a_df.loc[a_df.loc[:,'dataset']=='c1p1', :]\n",
    "c2p2_a_df = a_df.loc[a_df.loc[:,'dataset']=='c2p2', :]\n",
    "c3p3_a_df = a_df.loc[a_df.loc[:,'dataset']=='c3p3', :]\n",
    "c4p4_a_df = a_df.loc[a_df.loc[:,'dataset']=='c4p4', :]\n",
    "\n",
    "a_c1_c10_dfs = [c1_a_df, c2_a_df, c3_a_df, c4_a_df, c5_a_df, cp6_a_df, cp7_a_df, cp8_a_df, cp9_a_df, cp10_a_df]\n",
    "a_c1p1_c5p5_dfs = [c1p1_a_df, c2p2_a_df, c3p3_a_df, c4p4_a_df, cp10_a_df]"
   ]
  },
  {
   "cell_type": "code",
   "execution_count": 15,
   "metadata": {},
   "outputs": [],
   "source": [
    "a_c1_c10_arrs = np.zeros((2,10))\n",
    "a_c1p1_c5p5_arrs = np.zeros((2,5))"
   ]
  },
  {
   "cell_type": "code",
   "execution_count": 17,
   "metadata": {},
   "outputs": [
    {
     "data": {
      "text/plain": [
       "array([[650.6       , 725.4       , 776.4       , 773.        ,\n",
       "        790.2       , 790.8       , 778.        , 791.6       ,\n",
       "        801.8       , 801.2       ],\n",
       "       [ 51.92109398,  34.04849483,  47.56364158,  25.01999201,\n",
       "         33.07113545,  24.28373942,  30.76524013,  17.88295278,\n",
       "         15.10629008,  31.17210291]])"
      ]
     },
     "execution_count": 17,
     "metadata": {},
     "output_type": "execute_result"
    }
   ],
   "source": [
    "# fill the arrays\n",
    "for i, df in enumerate(a_c1_c10_dfs):\n",
    "    a_c1_c10_arrs[0, i] = df.mean().loc['voc_size']\n",
    "    a_c1_c10_arrs[1, i] = df.std().loc['voc_size']\n",
    "a_c1_c10_arrs"
   ]
  },
  {
   "cell_type": "code",
   "execution_count": 20,
   "metadata": {},
   "outputs": [
    {
     "data": {
      "text/plain": [
       "array([[708.8       , 768.6       , 792.6       , 816.4       ,\n",
       "        801.2       ],\n",
       "       [ 67.09470918,  35.89986072,  17.78482499,  25.33377193,\n",
       "         31.17210291]])"
      ]
     },
     "execution_count": 20,
     "metadata": {},
     "output_type": "execute_result"
    }
   ],
   "source": [
    "# fill the arrays\n",
    "for i, df in enumerate(a_c1p1_c5p5_dfs):\n",
    "    a_c1p1_c5p5_arrs[0, i] = df.mean().loc['voc_size']\n",
    "    a_c1p1_c5p5_arrs[1, i] = df.std().loc['voc_size']\n",
    "a_c1p1_c5p5_arrs"
   ]
  },
  {
   "cell_type": "code",
   "execution_count": 21,
   "metadata": {},
   "outputs": [
    {
     "data": {
      "text/plain": [
       "array([ 1,  2,  3,  4,  5,  6,  7,  8,  9, 10])"
      ]
     },
     "execution_count": 21,
     "metadata": {},
     "output_type": "execute_result"
    }
   ],
   "source": [
    "x = np.arange(1,11)\n",
    "x"
   ]
  },
  {
   "cell_type": "code",
   "execution_count": 26,
   "metadata": {},
   "outputs": [
    {
     "data": {
      "image/png": "[encoded data removed]",
      "text/plain": [
       "<Figure size 1080x504 with 1 Axes>"
      ]
     },
     "metadata": {},
     "output_type": "display_data"
    }
   ],
   "source": [
    "# plot c1-5\n",
    "plt.figure(figsize=(15,7))\n",
    "line1 = plt.errorbar(x[:5], a_c1_c10_arrs[0][:5], a_c1_c10_arrs[1][:5], fmt='-o')\n",
    "#plt.legend([line1, line2, line3, line4, line5, line6, line7, line8], METRICS)\n",
    "#plt.legend(bbox_to_anchor=(1.02, 0.5, 1., .1), loc='lower left',\n",
    "#           ncol=1, borderaxespad=0.)\n",
    "plt.ylabel('Vocabulary size', Fontsize=16)\n",
    "plt.xlabel('Captions per image', Fontsize=16)\n",
    "plt.xticks([1, 2, 3, 4, 5], Fontsize=14)\n",
    "plt.yticks(Fontsize=14)\n",
    "plt.savefig(save_path.joinpath('a-voc-c1-5.pdf'))\n",
    "plt.show()"
   ]
  },
  {
   "cell_type": "code",
   "execution_count": 27,
   "metadata": {},
   "outputs": [
    {
     "data": {
      "image/png": "[encoded data removed]",
      "text/plain": [
       "<Figure size 1080x504 with 1 Axes>"
      ]
     },
     "metadata": {},
     "output_type": "display_data"
    }
   ],
   "source": [
    "# plot c1-10\n",
    "plt.figure(figsize=(15,7))\n",
    "line1 = plt.errorbar(x, a_c1_c10_arrs[0], a_c1_c10_arrs[1], fmt='-o')\n",
    "#plt.legend([line1, line2, line3, line4, line5, line6, line7, line8], METRICS)\n",
    "#plt.legend(bbox_to_anchor=(1.02, 0.5, 1., .1), loc='lower left',\n",
    "#           ncol=1, borderaxespad=0.)\n",
    "plt.ylabel('Vocabulary size', Fontsize=16)\n",
    "plt.xlabel('Captions per image', Fontsize=16)\n",
    "plt.xticks([1, 2, 3, 4, 5, 6, 7, 8, 9, 10], Fontsize=14)\n",
    "plt.yticks(Fontsize=14)\n",
    "plt.savefig(save_path.joinpath('a-voc-c1-10.pdf'))\n",
    "plt.show()"
   ]
  },
  {
   "cell_type": "code",
   "execution_count": 28,
   "metadata": {},
   "outputs": [
    {
     "data": {
      "image/png": "[encoded data removed]",
      "text/plain": [
       "<Figure size 1152x504 with 1 Axes>"
      ]
     },
     "metadata": {},
     "output_type": "display_data"
    }
   ],
   "source": [
    "# plot c1-5 vs c1p1-c5p5\n",
    "plt.figure(figsize=(16,7))\n",
    "line1 = plt.errorbar(x[:5], a_c1_c10_arrs[0][:5], a_c1_c10_arrs[1][:5], fmt='-o', label='c1-c5')\n",
    "line2 = plt.errorbar(x[:5], a_c1p1_c5p5_arrs[0], a_c1p1_c5p5_arrs[1], fmt='-o', label='c1p1-c5p5')\n",
    "plt.legend([line1, line2])\n",
    "plt.legend(bbox_to_anchor=(1.02, 0.5, 1., .1), loc='lower left',\n",
    "           ncol=1, borderaxespad=0.)\n",
    "plt.ylabel('Vocabulary size', Fontsize=16)\n",
    "plt.xlabel('Captions per image**', Fontsize=16)\n",
    "plt.xticks([1, 2, 3, 4, 5], Fontsize=14)\n",
    "plt.yticks(Fontsize=14)\n",
    "plt.savefig(save_path.joinpath('a-voc-compare.pdf'))\n",
    "plt.show()"
   ]
  },
  {
   "cell_type": "markdown",
   "metadata": {},
   "source": [
    "# Model B"
   ]
  },
  {
   "cell_type": "code",
   "execution_count": 10,
   "metadata": {},
   "outputs": [
    {
     "data": {
      "text/html": [
       "<div>\n",
       "<style scoped>\n",
       "    .dataframe tbody tr th:only-of-type {\n",
       "        vertical-align: middle;\n",
       "    }\n",
       "\n",
       "    .dataframe tbody tr th {\n",
       "        vertical-align: top;\n",
       "    }\n",
       "\n",
       "    .dataframe thead th {\n",
       "        text-align: right;\n",
       "    }\n",
       "</style>\n",
       "<table border=\"1\" class=\"dataframe\">\n",
       "  <thead>\n",
       "    <tr style=\"text-align: right;\">\n",
       "      <th></th>\n",
       "      <th>model</th>\n",
       "      <th>dataset</th>\n",
       "      <th>voc_size</th>\n",
       "    </tr>\n",
       "  </thead>\n",
       "  <tbody>\n",
       "    <tr>\n",
       "      <th>0</th>\n",
       "      <td>basic_08-May-2020_(21:46:09)</td>\n",
       "      <td>coco</td>\n",
       "      <td>731.0</td>\n",
       "    </tr>\n",
       "    <tr>\n",
       "      <th>1</th>\n",
       "      <td>basic_08-May-2020_(21:46:13)</td>\n",
       "      <td>coco</td>\n",
       "      <td>766.0</td>\n",
       "    </tr>\n",
       "    <tr>\n",
       "      <th>2</th>\n",
       "      <td>basic_08-May-2020_(22:16:18)</td>\n",
       "      <td>coco</td>\n",
       "      <td>668.0</td>\n",
       "    </tr>\n",
       "    <tr>\n",
       "      <th>3</th>\n",
       "      <td>basic_08-May-2020_(22:32:32)</td>\n",
       "      <td>coco</td>\n",
       "      <td>746.0</td>\n",
       "    </tr>\n",
       "    <tr>\n",
       "      <th>4</th>\n",
       "      <td>basic_08-May-2020_(23:14:34)</td>\n",
       "      <td>coco</td>\n",
       "      <td>713.0</td>\n",
       "    </tr>\n",
       "    <tr>\n",
       "      <th>...</th>\n",
       "      <td>...</td>\n",
       "      <td>...</td>\n",
       "      <td>...</td>\n",
       "    </tr>\n",
       "    <tr>\n",
       "      <th>70</th>\n",
       "      <td>basic_exp_01-May-2020_(23:51:36)</td>\n",
       "      <td>c2p2</td>\n",
       "      <td>689.0</td>\n",
       "    </tr>\n",
       "    <tr>\n",
       "      <th>71</th>\n",
       "      <td>basic_exp_04-May-2020_(13:26:07)</td>\n",
       "      <td>c2p2</td>\n",
       "      <td>696.0</td>\n",
       "    </tr>\n",
       "    <tr>\n",
       "      <th>72</th>\n",
       "      <td>basic_exp_06-May-2020_(14:27:54)</td>\n",
       "      <td>c2p2</td>\n",
       "      <td>688.0</td>\n",
       "    </tr>\n",
       "    <tr>\n",
       "      <th>73</th>\n",
       "      <td>basic_exp_07-May-2020_(16:23:02)</td>\n",
       "      <td>c2p2</td>\n",
       "      <td>719.0</td>\n",
       "    </tr>\n",
       "    <tr>\n",
       "      <th>74</th>\n",
       "      <td>basic_exp_08-May-2020_(15:12:16)</td>\n",
       "      <td>c2p2</td>\n",
       "      <td>787.0</td>\n",
       "    </tr>\n",
       "  </tbody>\n",
       "</table>\n",
       "<p>75 rows × 3 columns</p>\n",
       "</div>"
      ],
      "text/plain": [
       "                               model dataset  voc_size\n",
       "0       basic_08-May-2020_(21:46:09)    coco     731.0\n",
       "1       basic_08-May-2020_(21:46:13)    coco     766.0\n",
       "2       basic_08-May-2020_(22:16:18)    coco     668.0\n",
       "3       basic_08-May-2020_(22:32:32)    coco     746.0\n",
       "4       basic_08-May-2020_(23:14:34)    coco     713.0\n",
       "..                               ...     ...       ...\n",
       "70  basic_exp_01-May-2020_(23:51:36)    c2p2     689.0\n",
       "71  basic_exp_04-May-2020_(13:26:07)    c2p2     696.0\n",
       "72  basic_exp_06-May-2020_(14:27:54)    c2p2     688.0\n",
       "73  basic_exp_07-May-2020_(16:23:02)    c2p2     719.0\n",
       "74  basic_exp_08-May-2020_(15:12:16)    c2p2     787.0\n",
       "\n",
       "[75 rows x 3 columns]"
      ]
     },
     "execution_count": 10,
     "metadata": {},
     "output_type": "execute_result"
    }
   ],
   "source": [
    "b_df = pd.read_csv(basic_result_path)\n",
    "b_df"
   ]
  },
  {
   "cell_type": "markdown",
   "metadata": {},
   "source": [
    "## Baseline"
   ]
  },
  {
   "cell_type": "code",
   "execution_count": 11,
   "metadata": {},
   "outputs": [
    {
     "data": {
      "text/html": [
       "<div>\n",
       "<style scoped>\n",
       "    .dataframe tbody tr th:only-of-type {\n",
       "        vertical-align: middle;\n",
       "    }\n",
       "\n",
       "    .dataframe tbody tr th {\n",
       "        vertical-align: top;\n",
       "    }\n",
       "\n",
       "    .dataframe thead th {\n",
       "        text-align: right;\n",
       "    }\n",
       "</style>\n",
       "<table border=\"1\" class=\"dataframe\">\n",
       "  <thead>\n",
       "    <tr style=\"text-align: right;\">\n",
       "      <th></th>\n",
       "      <th>model</th>\n",
       "      <th>dataset</th>\n",
       "      <th>voc_size</th>\n",
       "    </tr>\n",
       "  </thead>\n",
       "  <tbody>\n",
       "    <tr>\n",
       "      <th>0</th>\n",
       "      <td>basic_08-May-2020_(21:46:09)</td>\n",
       "      <td>coco</td>\n",
       "      <td>731.0</td>\n",
       "    </tr>\n",
       "    <tr>\n",
       "      <th>1</th>\n",
       "      <td>basic_08-May-2020_(21:46:13)</td>\n",
       "      <td>coco</td>\n",
       "      <td>766.0</td>\n",
       "    </tr>\n",
       "    <tr>\n",
       "      <th>2</th>\n",
       "      <td>basic_08-May-2020_(22:16:18)</td>\n",
       "      <td>coco</td>\n",
       "      <td>668.0</td>\n",
       "    </tr>\n",
       "    <tr>\n",
       "      <th>3</th>\n",
       "      <td>basic_08-May-2020_(22:32:32)</td>\n",
       "      <td>coco</td>\n",
       "      <td>746.0</td>\n",
       "    </tr>\n",
       "    <tr>\n",
       "      <th>4</th>\n",
       "      <td>basic_08-May-2020_(23:14:34)</td>\n",
       "      <td>coco</td>\n",
       "      <td>713.0</td>\n",
       "    </tr>\n",
       "  </tbody>\n",
       "</table>\n",
       "</div>"
      ],
      "text/plain": [
       "                          model dataset  voc_size\n",
       "0  basic_08-May-2020_(21:46:09)    coco     731.0\n",
       "1  basic_08-May-2020_(21:46:13)    coco     766.0\n",
       "2  basic_08-May-2020_(22:16:18)    coco     668.0\n",
       "3  basic_08-May-2020_(22:32:32)    coco     746.0\n",
       "4  basic_08-May-2020_(23:14:34)    coco     713.0"
      ]
     },
     "execution_count": 11,
     "metadata": {},
     "output_type": "execute_result"
    }
   ],
   "source": [
    "b_baseline_df = b_df.loc[b_df.loc[:,'dataset']=='coco', :]\n",
    "b_baseline_df"
   ]
  },
  {
   "cell_type": "code",
   "execution_count": 12,
   "metadata": {},
   "outputs": [
    {
     "data": {
      "text/html": [
       "<div>\n",
       "<style scoped>\n",
       "    .dataframe tbody tr th:only-of-type {\n",
       "        vertical-align: middle;\n",
       "    }\n",
       "\n",
       "    .dataframe tbody tr th {\n",
       "        vertical-align: top;\n",
       "    }\n",
       "\n",
       "    .dataframe thead th {\n",
       "        text-align: right;\n",
       "    }\n",
       "</style>\n",
       "<table border=\"1\" class=\"dataframe\">\n",
       "  <thead>\n",
       "    <tr style=\"text-align: right;\">\n",
       "      <th></th>\n",
       "      <th>voc_size</th>\n",
       "    </tr>\n",
       "  </thead>\n",
       "  <tbody>\n",
       "    <tr>\n",
       "      <th>count</th>\n",
       "      <td>5.000000</td>\n",
       "    </tr>\n",
       "    <tr>\n",
       "      <th>mean</th>\n",
       "      <td>724.800000</td>\n",
       "    </tr>\n",
       "    <tr>\n",
       "      <th>std</th>\n",
       "      <td>37.251846</td>\n",
       "    </tr>\n",
       "    <tr>\n",
       "      <th>min</th>\n",
       "      <td>668.000000</td>\n",
       "    </tr>\n",
       "    <tr>\n",
       "      <th>25%</th>\n",
       "      <td>713.000000</td>\n",
       "    </tr>\n",
       "    <tr>\n",
       "      <th>50%</th>\n",
       "      <td>731.000000</td>\n",
       "    </tr>\n",
       "    <tr>\n",
       "      <th>75%</th>\n",
       "      <td>746.000000</td>\n",
       "    </tr>\n",
       "    <tr>\n",
       "      <th>max</th>\n",
       "      <td>766.000000</td>\n",
       "    </tr>\n",
       "  </tbody>\n",
       "</table>\n",
       "</div>"
      ],
      "text/plain": [
       "         voc_size\n",
       "count    5.000000\n",
       "mean   724.800000\n",
       "std     37.251846\n",
       "min    668.000000\n",
       "25%    713.000000\n",
       "50%    731.000000\n",
       "75%    746.000000\n",
       "max    766.000000"
      ]
     },
     "execution_count": 12,
     "metadata": {},
     "output_type": "execute_result"
    }
   ],
   "source": [
    "b_baseline_df.describe()"
   ]
  },
  {
   "cell_type": "code",
   "execution_count": null,
   "metadata": {},
   "outputs": [],
   "source": []
  }
 ],
 "metadata": {
  "kernelspec": {
   "display_name": "Python 3",
   "language": "python",
   "name": "python3"
  },
  "language_info": {
   "codemirror_mode": {
    "name": "ipython",
    "version": 3
   },
   "file_extension": ".py",
   "mimetype": "text/x-python",
   "name": "python",
   "nbconvert_exporter": "python",
   "pygments_lexer": "ipython3",
   "version": "3.7.6"
  }
 },
 "nbformat": 4,
 "nbformat_minor": 4
}
