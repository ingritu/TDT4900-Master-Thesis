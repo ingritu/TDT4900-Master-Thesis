{
 "cells": [
  {
   "cell_type": "code",
   "execution_count": 1,
   "metadata": {},
   "outputs": [],
   "source": [
    "import json\n",
    "from pathlib import Path"
   ]
  },
  {
   "cell_type": "code",
   "execution_count": 3,
   "metadata": {},
   "outputs": [],
   "source": [
    "ROOT_PATH = Path().absolute().parents[2]"
   ]
  },
  {
   "cell_type": "code",
   "execution_count": 4,
   "metadata": {},
   "outputs": [],
   "source": [
    "def shallow_insights_about_dataset(data_path, dataset):\n",
    "    with open(data_path, 'r') as json_file:\n",
    "        data_dict = json.load(json_file)\n",
    "\n",
    "    splitnames = {}\n",
    "    filepath_names = {}\n",
    "    images_with_more_than_five_captions = {'train': {}, 'test': {}, 'val': {}}\n",
    "\n",
    "    data_images = data_dict['images']\n",
    "\n",
    "    for image in data_images:\n",
    "        image_split = image['split']\n",
    "        if image_split not in splitnames.keys():\n",
    "            splitnames[image_split] = 1\n",
    "        else:\n",
    "            splitnames[image_split] += 1\n",
    "        if dataset == 'coco':\n",
    "            image_filepath = image['filepath']\n",
    "            if image_filepath not in filepath_names.keys():\n",
    "                filepath_names[image_filepath] = 1\n",
    "            else:\n",
    "                filepath_names[image_filepath] += 1\n",
    "\n",
    "        # find images with more than 5 captions\n",
    "        num_caps = len(image['sentids'])\n",
    "        if image_split != 'restval' and num_caps > 5:\n",
    "            if num_caps not in images_with_more_than_five_captions[image_split].keys():\n",
    "                images_with_more_than_five_captions[image_split][num_caps] = 1\n",
    "            else:\n",
    "                images_with_more_than_five_captions[image_split][num_caps] += 1\n",
    "    print(splitnames)\n",
    "    print(filepath_names)\n",
    "\n",
    "    for key in images_with_more_than_five_captions.keys():\n",
    "        print(key, images_with_more_than_five_captions[key])"
   ]
  },
  {
   "cell_type": "code",
   "execution_count": 6,
   "metadata": {},
   "outputs": [
    {
     "ename": "FileNotFoundError",
     "evalue": "[Errno 2] No such file or directory: '/home/ingrid/data/raw/karpathy_split/dataset_flickr30k.json'",
     "output_type": "error",
     "traceback": [
      "\u001b[0;31m---------------------------------------------------------------------------\u001b[0m",
      "\u001b[0;31mFileNotFoundError\u001b[0m                         Traceback (most recent call last)",
      "\u001b[0;32m<ipython-input-6-0129611948e8>\u001b[0m in \u001b[0;36m<module>\u001b[0;34m\u001b[0m\n\u001b[1;32m      1\u001b[0m \u001b[0mdataset_\u001b[0m \u001b[0;34m=\u001b[0m \u001b[0;34m'flickr30k'\u001b[0m\u001b[0;34m\u001b[0m\u001b[0;34m\u001b[0m\u001b[0m\n\u001b[1;32m      2\u001b[0m \u001b[0mdata_path_\u001b[0m \u001b[0;34m=\u001b[0m \u001b[0mROOT_PATH\u001b[0m\u001b[0;34m.\u001b[0m\u001b[0mjoinpath\u001b[0m\u001b[0;34m(\u001b[0m\u001b[0;34m'data'\u001b[0m\u001b[0;34m,\u001b[0m \u001b[0;34m'raw'\u001b[0m\u001b[0;34m,\u001b[0m \u001b[0;34m'karpathy_split'\u001b[0m\u001b[0;34m,\u001b[0m \u001b[0;34m'dataset_'\u001b[0m \u001b[0;34m+\u001b[0m \u001b[0mdataset_\u001b[0m \u001b[0;34m+\u001b[0m \u001b[0;34m'.json'\u001b[0m\u001b[0;34m)\u001b[0m\u001b[0;34m\u001b[0m\u001b[0;34m\u001b[0m\u001b[0m\n\u001b[0;32m----> 3\u001b[0;31m \u001b[0mshallow_insights_about_dataset\u001b[0m\u001b[0;34m(\u001b[0m\u001b[0mdata_path_\u001b[0m\u001b[0;34m,\u001b[0m \u001b[0mdataset_\u001b[0m\u001b[0;34m)\u001b[0m\u001b[0;34m\u001b[0m\u001b[0;34m\u001b[0m\u001b[0m\n\u001b[0m",
      "\u001b[0;32m<ipython-input-4-5a21a1e04aaa>\u001b[0m in \u001b[0;36mshallow_insights_about_dataset\u001b[0;34m(data_path, dataset)\u001b[0m\n\u001b[1;32m      1\u001b[0m \u001b[0;32mdef\u001b[0m \u001b[0mshallow_insights_about_dataset\u001b[0m\u001b[0;34m(\u001b[0m\u001b[0mdata_path\u001b[0m\u001b[0;34m,\u001b[0m \u001b[0mdataset\u001b[0m\u001b[0;34m)\u001b[0m\u001b[0;34m:\u001b[0m\u001b[0;34m\u001b[0m\u001b[0;34m\u001b[0m\u001b[0m\n\u001b[0;32m----> 2\u001b[0;31m     \u001b[0;32mwith\u001b[0m \u001b[0mopen\u001b[0m\u001b[0;34m(\u001b[0m\u001b[0mdata_path\u001b[0m\u001b[0;34m,\u001b[0m \u001b[0;34m'r'\u001b[0m\u001b[0;34m)\u001b[0m \u001b[0;32mas\u001b[0m \u001b[0mjson_file\u001b[0m\u001b[0;34m:\u001b[0m\u001b[0;34m\u001b[0m\u001b[0;34m\u001b[0m\u001b[0m\n\u001b[0m\u001b[1;32m      3\u001b[0m         \u001b[0mdata_dict\u001b[0m \u001b[0;34m=\u001b[0m \u001b[0mjson\u001b[0m\u001b[0;34m.\u001b[0m\u001b[0mload\u001b[0m\u001b[0;34m(\u001b[0m\u001b[0mjson_file\u001b[0m\u001b[0;34m)\u001b[0m\u001b[0;34m\u001b[0m\u001b[0;34m\u001b[0m\u001b[0m\n\u001b[1;32m      4\u001b[0m \u001b[0;34m\u001b[0m\u001b[0m\n\u001b[1;32m      5\u001b[0m     \u001b[0msplitnames\u001b[0m \u001b[0;34m=\u001b[0m \u001b[0;34m{\u001b[0m\u001b[0;34m}\u001b[0m\u001b[0;34m\u001b[0m\u001b[0;34m\u001b[0m\u001b[0m\n",
      "\u001b[0;31mFileNotFoundError\u001b[0m: [Errno 2] No such file or directory: '/home/ingrid/data/raw/karpathy_split/dataset_flickr30k.json'"
     ]
    }
   ],
   "source": [
    "dataset_ = 'flickr30k'\n",
    "data_path_ = ROOT_PATH.joinpath('data', 'raw', 'karpathy_split', 'dataset_' + dataset_ + '.json')\n",
    "shallow_insights_about_dataset(data_path_, dataset_)"
   ]
  },
  {
   "cell_type": "code",
   "execution_count": null,
   "metadata": {},
   "outputs": [],
   "source": []
  },
  {
   "cell_type": "code",
   "execution_count": null,
   "metadata": {},
   "outputs": [],
   "source": []
  }
 ],
 "metadata": {
  "kernelspec": {
   "display_name": "Python 3",
   "language": "python",
   "name": "python3"
  },
  "language_info": {
   "codemirror_mode": {
    "name": "ipython",
    "version": 3
   },
   "file_extension": ".py",
   "mimetype": "text/x-python",
   "name": "python",
   "nbconvert_exporter": "python",
   "pygments_lexer": "ipython3",
   "version": "3.7.4"
  }
 },
 "nbformat": 4,
 "nbformat_minor": 2
}
