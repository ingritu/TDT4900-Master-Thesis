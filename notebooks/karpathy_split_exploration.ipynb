{
 "cells": [
  {
   "cell_type": "code",
   "execution_count": 10,
   "metadata": {},
   "outputs": [],
   "source": [
    "import json\n",
    "from pathlib import Path"
   ]
  },
  {
   "cell_type": "code",
   "execution_count": 11,
   "metadata": {},
   "outputs": [],
   "source": [
    "ROOT_PATH = Path().absolute().parent"
   ]
  },
  {
   "cell_type": "code",
   "execution_count": 12,
   "metadata": {},
   "outputs": [],
   "source": [
    "def shallow_insights_about_dataset(data_path, dataset):\n",
    "    with open(data_path, 'r') as json_file:\n",
    "        data_dict = json.load(json_file)\n",
    "\n",
    "    splitnames = {}\n",
    "    filepath_names = {}\n",
    "    images_with_more_than_five_captions = {'train': {}, 'test': {}, 'val': {}}\n",
    "\n",
    "    data_images = data_dict['images']\n",
    "\n",
    "    for image in data_images:\n",
    "        image_split = image['split']\n",
    "        if image_split not in splitnames.keys():\n",
    "            splitnames[image_split] = 1\n",
    "        else:\n",
    "            splitnames[image_split] += 1\n",
    "        if dataset == 'coco':\n",
    "            image_filepath = image['filepath']\n",
    "            if image_filepath not in filepath_names.keys():\n",
    "                filepath_names[image_filepath] = 1\n",
    "            else:\n",
    "                filepath_names[image_filepath] += 1\n",
    "\n",
    "        # find images with more than 5 captions\n",
    "        num_caps = len(image['sentids'])\n",
    "        if image_split != 'restval' and num_caps > 5:\n",
    "            if num_caps not in images_with_more_than_five_captions[image_split].keys():\n",
    "                images_with_more_than_five_captions[image_split][num_caps] = 1\n",
    "            else:\n",
    "                images_with_more_than_five_captions[image_split][num_caps] += 1\n",
    "    print(splitnames)\n",
    "    print(filepath_names)\n",
    "\n",
    "    for key in images_with_more_than_five_captions.keys():\n",
    "        print(key, images_with_more_than_five_captions[key])"
   ]
  },
  {
   "cell_type": "code",
   "execution_count": 13,
   "metadata": {},
   "outputs": [
    {
     "name": "stdout",
     "output_type": "stream",
     "text": [
      "{'train': 29000, 'test': 1000, 'val': 1014}\n",
      "{}\n",
      "train {}\n",
      "test {}\n",
      "val {}\n"
     ]
    }
   ],
   "source": [
    "dataset_ = 'flickr30k'\n",
    "data_path_ = ROOT_PATH.joinpath('data', 'raw', 'karpathy_split', 'dataset_' + dataset_ + '.json')\n",
    "shallow_insights_about_dataset(data_path_, dataset_)"
   ]
  },
  {
   "cell_type": "code",
   "execution_count": null,
   "metadata": {},
   "outputs": [],
   "source": []
  },
  {
   "cell_type": "code",
   "execution_count": null,
   "metadata": {},
   "outputs": [],
   "source": []
  }
 ],
 "metadata": {
  "kernelspec": {
   "display_name": "Python 3",
   "language": "python",
   "name": "python3"
  },
  "language_info": {
   "codemirror_mode": {
    "name": "ipython",
    "version": 3
   },
   "file_extension": ".py",
   "mimetype": "text/x-python",
   "name": "python",
   "nbconvert_exporter": "python",
   "pygments_lexer": "ipython3",
   "version": "3.7.4"
  }
 },
 "nbformat": 4,
 "nbformat_minor": 2
}
