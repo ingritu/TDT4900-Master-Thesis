{
 "cells": [
  {
   "cell_type": "code",
   "execution_count": 1,
   "metadata": {},
   "outputs": [],
   "source": [
    "import json\n",
    "from pathlib import Path"
   ]
  },
  {
   "cell_type": "code",
   "execution_count": 2,
   "metadata": {},
   "outputs": [],
   "source": [
    "ROOT_PATH = Path().absolute().parent"
   ]
  },
  {
   "cell_type": "code",
   "execution_count": 5,
   "metadata": {},
   "outputs": [],
   "source": [
    "def shallow_insights_about_dataset(data_path, dataset):\n",
    "    with open(data_path, 'r') as json_file:\n",
    "        data_dict = json.load(json_file)\n",
    "\n",
    "    splitnames = {}\n",
    "    filepath_names = {}\n",
    "    images_with_more_than_five_captions = {'train': {}, 'test': {}, 'val': {}, 'restval': {}}\n",
    "\n",
    "    data_images = data_dict['images']\n",
    "\n",
    "    for image in data_images:\n",
    "        image_split = image['split']\n",
    "        if image_split not in splitnames.keys():\n",
    "            splitnames[image_split] = 1\n",
    "        else:\n",
    "            splitnames[image_split] += 1\n",
    "        if dataset == 'coco':\n",
    "            image_filepath = image['filepath']\n",
    "            if image_filepath not in filepath_names.keys():\n",
    "                filepath_names[image_filepath] = 1\n",
    "            else:\n",
    "                filepath_names[image_filepath] += 1\n",
    "\n",
    "        # find images with more than 5 captions\n",
    "        num_caps = len(image['sentids'])\n",
    "        if num_caps > 5:\n",
    "            if num_caps not in images_with_more_than_five_captions[image_split].keys():\n",
    "                images_with_more_than_five_captions[image_split][num_caps] = 1\n",
    "            else:\n",
    "                images_with_more_than_five_captions[image_split][num_caps] += 1\n",
    "    print(splitnames)\n",
    "    print(filepath_names)\n",
    "\n",
    "    for key in images_with_more_than_five_captions.keys():\n",
    "        print(key, images_with_more_than_five_captions[key])"
   ]
  },
  {
   "cell_type": "code",
   "execution_count": 6,
   "metadata": {},
   "outputs": [
    {
     "name": "stdout",
     "output_type": "stream",
     "text": [
      "{'test': 5000, 'restval': 30504, 'val': 5000, 'train': 82783}\n",
      "{'val2014': 40504, 'train2014': 82783}\n",
      "train {6: 196, 7: 1}\n",
      "test {6: 10}\n",
      "val {6: 10}\n",
      "restval {6: 108, 7: 3}\n"
     ]
    }
   ],
   "source": [
    "dataset_ = 'coco'\n",
    "data_path_ = ROOT_PATH.joinpath('data', 'raw', 'karpathy_split', 'dataset_' + dataset_ + '.json')\n",
    "shallow_insights_about_dataset(data_path_, dataset_)"
   ]
  },
  {
   "cell_type": "code",
   "execution_count": 31,
   "metadata": {},
   "outputs": [],
   "source": [
    "with open(data_path_, 'r') as json_file:\n",
    "    data_dict = json.load(json_file)"
   ]
  },
  {
   "cell_type": "code",
   "execution_count": 32,
   "metadata": {},
   "outputs": [
    {
     "name": "stdout",
     "output_type": "stream",
     "text": [
      "dict_keys(['images', 'dataset'])\n"
     ]
    }
   ],
   "source": [
    "print(data_dict.keys())"
   ]
  },
  {
   "cell_type": "code",
   "execution_count": 33,
   "metadata": {},
   "outputs": [
    {
     "name": "stdout",
     "output_type": "stream",
     "text": [
      "dict_keys(['filepath', 'sentids', 'filename', 'imgid', 'split', 'sentences', 'cocoid'])\n"
     ]
    }
   ],
   "source": [
    "print(data_dict['images'][0].keys())"
   ]
  },
  {
   "cell_type": "code",
   "execution_count": 40,
   "metadata": {},
   "outputs": [
    {
     "name": "stdout",
     "output_type": "stream",
     "text": [
      "COCO_val2014_000000391895.jpg\n"
     ]
    }
   ],
   "source": [
    "print(data_dict['images'][0]['filename'])"
   ]
  },
  {
   "cell_type": "code",
   "execution_count": 34,
   "metadata": {},
   "outputs": [
    {
     "name": "stdout",
     "output_type": "stream",
     "text": [
      "dict_keys(['tokens', 'raw', 'imgid', 'sentid'])\n"
     ]
    }
   ],
   "source": [
    "print(data_dict['images'][5]['sentences'][0].keys())"
   ]
  },
  {
   "cell_type": "code",
   "execution_count": 41,
   "metadata": {},
   "outputs": [
    {
     "name": "stdout",
     "output_type": "stream",
     "text": [
      "['a', 'man', 'is', 'in', 'a', 'kitchen', 'making', 'pizzas']\n"
     ]
    }
   ],
   "source": [
    "print(data_dict['images'][5]['sentences'][0]['tokens'])"
   ]
  },
  {
   "cell_type": "code",
   "execution_count": null,
   "metadata": {},
   "outputs": [],
   "source": []
  }
 ],
 "metadata": {
  "kernelspec": {
   "display_name": "Python 3",
   "language": "python",
   "name": "python3"
  },
  "language_info": {
   "codemirror_mode": {
    "name": "ipython",
    "version": 3
   },
   "file_extension": ".py",
   "mimetype": "text/x-python",
   "name": "python",
   "nbconvert_exporter": "python",
   "pygments_lexer": "ipython3",
   "version": "3.7.4"
  }
 },
 "nbformat": 4,
 "nbformat_minor": 2
}
